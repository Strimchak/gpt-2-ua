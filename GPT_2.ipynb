{
  "nbformat": 4,
  "nbformat_minor": 0,
  "metadata": {
    "colab": {
      "name": "Run.ipynb",
      "provenance": [],
      "collapsed_sections": [],
      "authorship_tag": "ABX9TyMZ4Q23qzt9lt3dx1pf/Ahh",
      "include_colab_link": true
    },
    "kernelspec": {
      "name": "python3",
      "display_name": "Python 3"
    },
    "language_info": {
      "name": "python"
    }
  },
  "cells": [
    {
      "cell_type": "markdown",
      "metadata": {
        "id": "view-in-github",
        "colab_type": "text"
      },
      "source": [
        "<a href=\"https://colab.research.google.com/github/Strimchak/gpt-2-ua/blob/main/GPT_2.ipynb\" target=\"_parent\"><img src=\"https://colab.research.google.com/assets/colab-badge.svg\" alt=\"Open In Colab\"/></a>"
      ]
    },
    {
      "cell_type": "markdown",
      "metadata": {
        "id": "9cOubaR1Juw4"
      },
      "source": [
        "# **Запуск нейромережі GPT2, навченої на основі україномовних статей Вікіпедії**\n",
        "\n",
        "---\n",
        "\n",
        "---\n"
      ]
    },
    {
      "cell_type": "markdown",
      "metadata": {
        "id": "rQWFHqBxKaK6"
      },
      "source": [
        "**Підключення до Google Диску**"
      ]
    },
    {
      "cell_type": "code",
      "metadata": {
        "id": "7uvdmXqTJa1o",
        "colab": {
          "base_uri": "https://localhost:8080/"
        },
        "outputId": "85db3fb7-01d2-4029-bf3e-2084e47d1d6f"
      },
      "source": [
        "from google.colab import drive\n",
        "drive.mount('/content/drive')"
      ],
      "execution_count": null,
      "outputs": [
        {
          "output_type": "stream",
          "text": [
            "Mounted at /content/drive\n"
          ],
          "name": "stdout"
        }
      ]
    },
    {
      "cell_type": "code",
      "metadata": {
        "id": "lroR_XZrKwSR",
        "colab": {
          "base_uri": "https://localhost:8080/"
        },
        "outputId": "50a5678f-3992-4fed-a764-e7849df32bb3"
      },
      "source": [
        "%cd drive\n",
        "%cd My\\ Drive\n",
        "\n"
      ],
      "execution_count": null,
      "outputs": [
        {
          "output_type": "stream",
          "text": [
            "/content/drive\n",
            "/content/drive/My Drive\n"
          ],
          "name": "stdout"
        }
      ]
    },
    {
      "cell_type": "markdown",
      "metadata": {
        "id": "N0n2RlKqLNhA"
      },
      "source": [
        "**Копіювання файлів з Git** (*при першому запуску*)"
      ]
    },
    {
      "cell_type": "code",
      "metadata": {
        "id": "FQbXcV9ZLUVI"
      },
      "source": [
        "!git clone https://github.com/Strimchak/gpt-2-ua.git"
      ],
      "execution_count": null,
      "outputs": []
    },
    {
      "cell_type": "markdown",
      "metadata": {
        "id": "s9Jh4PSnMf7o"
      },
      "source": [
        "**Копіювання україномовної моделі GPT2 до теки** (*при першому запуску*)"
      ]
    },
    {
      "cell_type": "code",
      "metadata": {
        "id": "Rx1PNATuXoba"
      },
      "source": [
        "cd /content/drive/My Drive/gpt-2-ua/models/117M"
      ],
      "execution_count": null,
      "outputs": []
    },
    {
      "cell_type": "code",
      "metadata": {
        "id": "Itdw7tAyM52A"
      },
      "source": [
        "!wget --load-cookies /tmp/cookies.txt \"https://docs.google.com/uc?export=download&confirm=$(wget --quiet --save-cookies /tmp/cookies.txt --keep-session-cookies --no-check-certificate 'https://docs.google.com/uc?export=download&id=1pHQDzAxJk2XMqpJ3x7vlum6RlKZV7tdy' -O- | sed -rn 's/.*confirm=([0-9A-Za-z_]+).*/\\1\\n/p')&id=1pHQDzAxJk2XMqpJ3x7vlum6RlKZV7tdy\" -O model-500000.data-00000-of-00001 && rm -rf /tmp/cookies.txt "
      ],
      "execution_count": null,
      "outputs": []
    },
    {
      "cell_type": "markdown",
      "metadata": {
        "id": "lv9K814xLiSY"
      },
      "source": [
        "**Перехід в теку**"
      ]
    },
    {
      "cell_type": "code",
      "metadata": {
        "id": "M8eB5jZfXxR3"
      },
      "source": [
        "cd /content/drive/My Drive/gpt-2-ua"
      ],
      "execution_count": null,
      "outputs": []
    },
    {
      "cell_type": "markdown",
      "metadata": {
        "id": "zzw8RouWNA_X"
      },
      "source": [
        "**Установка необхідних пакетів для роботи моделі**"
      ]
    },
    {
      "cell_type": "code",
      "metadata": {
        "id": "JgqLcseFNACo"
      },
      "source": [
        "!pip install tensorflow==1.15.0\n",
        "!pip install tensorflow-gpu==1.15.0\n",
        "!pip install 'tensorflow-estimator<1.15.0rc0,>=1.14.0rc0' --force-reinstall"
      ],
      "execution_count": null,
      "outputs": []
    },
    {
      "cell_type": "code",
      "metadata": {
        "id": "IUnzmtCxNZ0I"
      },
      "source": [
        "!wget https://developer.nvidia.com/compute/cuda/9.0/Prod/local_installers/cuda-repo-ubuntu1604-9-0-local_9.0.176-1_amd64-deb\n",
        "!dpkg -i cuda-repo-ubuntu1604-9-0-local_9.0.176-1_amd64-deb\n",
        "!apt-key add /var/cuda-repo-*/7fa2af80.pub\n",
        "!apt-get update\n",
        "!apt-get install cuda-9-0\n",
        "!export LD_LIBRARY_PATH=$LD_LIBRARY_PATH:/usr/local/cuda-9.0/lib64/"
      ],
      "execution_count": null,
      "outputs": []
    },
    {
      "cell_type": "code",
      "metadata": {
        "id": "s1-261B4Nc8Y"
      },
      "source": [
        "!pip install -r requirements.txt"
      ],
      "execution_count": null,
      "outputs": []
    },
    {
      "cell_type": "markdown",
      "metadata": {
        "id": "4_Zz1pGpNtGR"
      },
      "source": [
        "**Запуск моделі в режимі безперервної генерації зразків**"
      ]
    },
    {
      "cell_type": "code",
      "metadata": {
        "id": "dgh0PcJvNfww"
      },
      "source": [
        "!python generate_unconditional_samples.py --temperature 0.8 --top_k 40 --model_name 117M"
      ],
      "execution_count": null,
      "outputs": []
    },
    {
      "cell_type": "markdown",
      "metadata": {
        "id": "IBw1kg9uOfl6"
      },
      "source": [
        "**Запуск моделі в режимі генерації зразків після отримання тексту від користувача**"
      ]
    },
    {
      "cell_type": "code",
      "metadata": {
        "id": "1yj7qWsKOq1Z"
      },
      "source": [
        "!python interactive_conditional_samples.py --temperature 0.8 --top_k 40 --model_name 117M"
      ],
      "execution_count": null,
      "outputs": []
    }
  ]
}